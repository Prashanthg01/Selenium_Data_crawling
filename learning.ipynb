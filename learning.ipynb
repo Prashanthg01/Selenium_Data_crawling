{
 "cells": [
  {
   "cell_type": "code",
   "execution_count": 1,
   "metadata": {},
   "outputs": [],
   "source": [
    "# !pip install selenium"
   ]
  },
  {
   "cell_type": "code",
   "execution_count": 2,
   "metadata": {},
   "outputs": [],
   "source": [
    "### Crawl Reviews and Ratings from Flipkart"
   ]
  },
  {
   "cell_type": "code",
   "execution_count": 2,
   "metadata": {},
   "outputs": [],
   "source": [
    "import time\n",
    "import pandas as pd\n",
    "from selenium import webdriver\n",
    "from selenium.webdriver.common.by import By\n",
    "from selenium.webdriver.chrome.service import Service\n",
    "from selenium.webdriver.chrome.options import Options\n",
    "from webdriver_manager.chrome import ChromeDriverManager\n",
    "from selenium.webdriver.support.ui import WebDriverWait\n",
    "from selenium.webdriver.support import expected_conditions as EC\n",
    "from urllib.parse import urlparse"
   ]
  },
  {
   "cell_type": "code",
   "execution_count": 3,
   "metadata": {},
   "outputs": [],
   "source": [
    "# Set up Selenium WebDriver with Chrome\n",
    "options = Options()\n",
    "options.headless = True  # Run headless Chrome\n",
    "driver = webdriver.Chrome(service=Service(ChromeDriverManager().install()), options=options)"
   ]
  },
  {
   "cell_type": "code",
   "execution_count": 5,
   "metadata": {},
   "outputs": [],
   "source": [
    "url = \"https://www.flipkart.com/product/p/itm?pid=AICG4VQKFHR8DHDG\""
   ]
  },
  {
   "cell_type": "code",
   "execution_count": 6,
   "metadata": {},
   "outputs": [],
   "source": [
    "driver.get(url)\n",
    "time.sleep(10)"
   ]
  },
  {
   "cell_type": "code",
   "execution_count": 7,
   "metadata": {},
   "outputs": [
    {
     "name": "stdout",
     "output_type": "stream",
     "text": [
      "<selenium.webdriver.remote.webelement.WebElement (session=\"6fadb51075c3503de344d68d5240ee24\", element=\"f.A878D88918654257A5CA1D178FDFD20F.d.AA187AAD581F7517BDB457F2FCBA5900.e.66\")>\n"
     ]
    }
   ],
   "source": [
    "ratings_reviews_element = driver.find_element(By.CSS_SELECTOR, 'span.Wphh3N span')\n",
    "print(ratings_reviews_element)"
   ]
  },
  {
   "cell_type": "code",
   "execution_count": 8,
   "metadata": {},
   "outputs": [
    {
     "name": "stdout",
     "output_type": "stream",
     "text": [
      "['198 Ratings ', ' 20 Reviews']\n"
     ]
    }
   ],
   "source": [
    "ratings_reviews_text = ratings_reviews_element.text.split('&')\n",
    "print(ratings_reviews_text)"
   ]
  },
  {
   "cell_type": "code",
   "execution_count": 9,
   "metadata": {},
   "outputs": [
    {
     "name": "stdout",
     "output_type": "stream",
     "text": [
      "198 Ratings\n",
      "20 Reviews\n"
     ]
    }
   ],
   "source": [
    "ratings = ratings_reviews_text[0].strip()\n",
    "reviews = ratings_reviews_text[1].strip()\n",
    "\n",
    "print(ratings)\n",
    "print(reviews)"
   ]
  },
  {
   "cell_type": "code",
   "execution_count": 10,
   "metadata": {},
   "outputs": [],
   "source": [
    "#### Get Ratings from chrome:"
   ]
  },
  {
   "cell_type": "code",
   "execution_count": 14,
   "metadata": {},
   "outputs": [
    {
     "name": "stdout",
     "output_type": "stream",
     "text": [
      "124 ratings\n"
     ]
    }
   ],
   "source": [
    "url = \"https://www.amazon.in/dp/B0BSQNT3B2\"\n",
    "# url = \"https://www.amazon.in/dp/B011ITB1UE\"\n",
    "\n",
    "driver = webdriver.Chrome(service=Service(ChromeDriverManager().install()), options=options)\n",
    "driver.get(url)\n",
    "time.sleep(10)\n",
    "ratings_element = driver.find_element(By.ID, \"acrCustomerReviewText\")\n",
    "print(ratings_element.text)\n",
    "\n",
    "# Close the driver\n",
    "driver.quit()\n"
   ]
  },
  {
   "cell_type": "code",
   "execution_count": null,
   "metadata": {},
   "outputs": [],
   "source": [
    "### Get Reviews from Amazon\n",
    "\n",
    "# This is will neatigate to another page and get reviews and ratings"
   ]
  },
  {
   "cell_type": "code",
   "execution_count": 15,
   "metadata": {},
   "outputs": [
    {
     "name": "stdout",
     "output_type": "stream",
     "text": [
      "<selenium.webdriver.remote.webelement.WebElement (session=\"e1e48a3c6a7fade79deb75c6e107c515\", element=\"f.0050394D9790241B5C6748F64C57852C.d.600FF251475E302D917CDD2DD11C1F3B.e.84\")>\n",
      "124 total ratings\n",
      "49 with reviews\n"
     ]
    }
   ],
   "source": [
    "driver = webdriver.Chrome(service=Service(ChromeDriverManager().install()), options=options)\n",
    "driver.get(url)\n",
    "time.sleep(8)\n",
    "\n",
    "see_all_reviews_link = WebDriverWait(driver, 10).until(\n",
    "        EC.element_to_be_clickable((By.CSS_SELECTOR, 'a[data-hook=\"see-all-reviews-link-foot\"]'))\n",
    "    )\n",
    "print(see_all_reviews_link)\n",
    "see_all_reviews_link.click()\n",
    "time.sleep(5)\n",
    "\n",
    "ratings_reviews_element = WebDriverWait(driver, 10).until(\n",
    "        EC.presence_of_element_located((By.CSS_SELECTOR, 'div[data-hook=\"cr-filter-info-review-rating-count\"]'))\n",
    "    )\n",
    "ratings_reviews_text = ratings_reviews_element.text.split(',')\n",
    "ratings = ratings_reviews_text[0].strip()\n",
    "reviews = ratings_reviews_text[1].strip()\n",
    "\n",
    "print(ratings)\n",
    "print(reviews)\n",
    "\n",
    "# Close the driver\n",
    "driver.quit()"
   ]
  },
  {
   "cell_type": "code",
   "execution_count": null,
   "metadata": {},
   "outputs": [],
   "source": [
    "### Get Product name"
   ]
  },
  {
   "cell_type": "code",
   "execution_count": 7,
   "metadata": {},
   "outputs": [
    {
     "name": "stdout",
     "output_type": "stream",
     "text": [
      "Bajaj 36L Personal Air Cooler PMH 36 Torque (Anti-Bacterial Technology, Honeycomb Cooling Pads)\n"
     ]
    }
   ],
   "source": [
    "url = \"https://www.amazon.in/dp/B0BSQNT3B2\"\n",
    "# url = \"https://www.amazon.in/dp/B011ITB1UE\"\n",
    "\n",
    "driver = webdriver.Chrome(service=Service(ChromeDriverManager().install()), options=options)\n",
    "driver.get(url)\n",
    "time.sleep(10)\n",
    "ratings_element = driver.find_element(By.ID, \"productTitle\")\n",
    "print(ratings_element.text)\n",
    "\n",
    "# Close the driver\n",
    "driver.quit()\n"
   ]
  }
 ],
 "metadata": {
  "kernelspec": {
   "display_name": "Python 3",
   "language": "python",
   "name": "python3"
  },
  "language_info": {
   "codemirror_mode": {
    "name": "ipython",
    "version": 3
   },
   "file_extension": ".py",
   "mimetype": "text/x-python",
   "name": "python",
   "nbconvert_exporter": "python",
   "pygments_lexer": "ipython3",
   "version": "3.9.11"
  }
 },
 "nbformat": 4,
 "nbformat_minor": 2
}
