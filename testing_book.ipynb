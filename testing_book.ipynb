{
 "cells": [
  {
   "cell_type": "code",
   "execution_count": 1,
   "metadata": {},
   "outputs": [
    {
     "name": "stdout",
     "output_type": "stream",
     "text": [
      "Data cleaning and conversion completed. The cleaned details are saved to 'cleaned_product_reviews.csv'.\n"
     ]
    }
   ],
   "source": [
    "import pandas as pd\n",
    "\n",
    "# Read the extracted data from the CSV file\n",
    "products_df = pd.read_csv('product_reviews.csv')\n",
    "\n",
    "# Function to clean and convert the ratings and reviews columns\n",
    "def clean_and_convert(column):\n",
    "    # Remove any non-numeric characters and convert to integer\n",
    "    return column.str.replace(r'[^0-9]', '', regex=True).astype(int)\n",
    "\n",
    "# Apply the function to the Ratings and Reviews columns\n",
    "products_df['Ratings'] = clean_and_convert(products_df['Ratings'])\n",
    "products_df['Reviews'] = clean_and_convert(products_df['Reviews'])\n",
    "\n",
    "# Save the cleaned data back to a CSV file\n",
    "products_df.to_csv('cleaned_product_reviews.csv', index=False)\n",
    "\n",
    "print(\"Data cleaning and conversion completed. The cleaned details are saved to 'cleaned_product_reviews.csv'.\")\n"
   ]
  },
  {
   "cell_type": "code",
   "execution_count": 6,
   "metadata": {},
   "outputs": [
    {
     "name": "stdout",
     "output_type": "stream",
     "text": [
      "20% of 500 is 100.0\n"
     ]
    }
   ],
   "source": [
    "x = 500\n",
    "y = \"20%\"\n",
    "w = (float(y.rstrip(\"%\"))/100)*x\n",
    "print(f\"{y} of {x} is {w}\")\n"
   ]
  },
  {
   "cell_type": "code",
   "execution_count": 24,
   "metadata": {},
   "outputs": [
    {
     "name": "stdout",
     "output_type": "stream",
     "text": [
      "<class 'str'>\n",
      "<class 'int'> 50\n"
     ]
    }
   ],
   "source": [
    "x = \"50%\"\n",
    "print(type(x))\n",
    "x = int(x.rstrip(\"%\"))\n",
    "print(type(x), x)\n"
   ]
  }
 ],
 "metadata": {
  "kernelspec": {
   "display_name": "myenv",
   "language": "python",
   "name": "python3"
  },
  "language_info": {
   "codemirror_mode": {
    "name": "ipython",
    "version": 3
   },
   "file_extension": ".py",
   "mimetype": "text/x-python",
   "name": "python",
   "nbconvert_exporter": "python",
   "pygments_lexer": "ipython3",
   "version": "3.10.0"
  }
 },
 "nbformat": 4,
 "nbformat_minor": 2
}
